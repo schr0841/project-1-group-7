{
 "cells": [
  {
   "cell_type": "markdown",
   "id": "17acc4b7-1983-4f18-9e4b-3af670796ea1",
   "metadata": {},
   "source": [
    "# Project 1 Group 7 Initial Exploratory Analysis\n",
    "\n",
    "## Title: Japan Birth Demographics\n",
    "\n",
    "## \n",
    "Team Members: Ashley Anderson, Christine Jauregui, Melissa Krachmer, Greg Schreiter\n",
    "Could eliminate some unused columns of japan_pds"
   ]
  },
  {
   "cell_type": "code",
   "execution_count": null,
   "id": "708081ea-8c70-49b6-8a1c-40cf927afce1",
   "metadata": {},
   "outputs": [],
   "source": [
    "import pandas as pd\n",
    "import matplotlib.pyplot as plt\n",
    "\n",
    "\n",
    "#Path to csv file\n",
    "path='Resources/japan_birth.csv'\n",
    "japan_pd=pd.read_csv(path)\n",
    "\n",
    "#Save column names\n",
    "cols=japan_pd.columns\n",
    "print(cols)"
   ]
  },
  {
   "cell_type": "markdown",
   "id": "071fd31b-c836-4c76-ac7f-01e58ceb5de3",
   "metadata": {},
   "source": [
    "\n",
    "### Total Fertility Rate over the last 100 years\n"
   ]
  },
  {
   "cell_type": "code",
   "execution_count": null,
   "id": "ca99a366-9ab0-49ad-8e7d-517a4e6f3b12",
   "metadata": {},
   "outputs": [],
   "source": [
    "plt.plot(japan_pd['year'], japan_pd['total_fertility_rate'])\n",
    "plt.xlabel(\"year\")\n",
    "plt.ylabel(\"total fertility rate\")\n",
    "plt.title(\"Total fertility rate vs year\")\n",
    "plt.show()"
   ]
  },
  {
   "cell_type": "markdown",
   "id": "a70a6225-1d48-4e83-8c3f-3decc8e838e2",
   "metadata": {},
   "source": [
    "In the above, our data is missing until 1947. Thus, we can't quite look back 100 years for this."
   ]
  },
  {
   "cell_type": "markdown",
   "id": "1cbdbb52-871d-4171-b78f-0a2544056a7c",
   "metadata": {},
   "source": [
    "### How were fertility rate, # of still births, etc. impacted by major events (e.g. war)?"
   ]
  },
  {
   "cell_type": "code",
   "execution_count": null,
   "id": "03f68c4a-2692-419a-98bb-4e5fe1e2b696",
   "metadata": {},
   "outputs": [],
   "source": [
    "plt.plot(japan_pd['year'], japan_pd['stillbirth_rate'])\n",
    "plt.xlabel(\"year\")\n",
    "plt.ylabel(\"Stillbirth Rate\")\n",
    "plt.title(\"Stillbirth Rate vs year\")\n",
    "plt.show()"
   ]
  },
  {
   "cell_type": "code",
   "execution_count": null,
   "id": "ab8726fd-c61c-4e39-9d42-b3bff08d2291",
   "metadata": {},
   "outputs": [],
   "source": [
    "plt.plot(japan_pd['year'], japan_pd['stillbirth_total'])\n",
    "plt.xlabel(\"year\")\n",
    "plt.ylabel(\"Stillbirth Total\")\n",
    "plt.title(\"Stillbirth Total vs year\")\n",
    "plt.show()"
   ]
  },
  {
   "cell_type": "markdown",
   "id": "672e3940-d607-4d28-ac50-c12140364198",
   "metadata": {},
   "source": [
    "### How has the # of children born out of wedlock changed over the last 50 years?\n"
   ]
  },
  {
   "cell_type": "code",
   "execution_count": null,
   "id": "44dcefb2-d767-4e7c-bea1-035156661dda",
   "metadata": {},
   "outputs": [],
   "source": [
    "# illegitimate_child\n",
    "\n",
    "plt.plot(japan_pd['year'], japan_pd['illegitimate_child'])\n",
    "plt.xlabel(\"year\")\n",
    "plt.ylabel(\"Illegitimate Child\")\n",
    "plt.title(\"Illegitimate Child vs year\")\n",
    "plt.show()\n",
    "\n"
   ]
  },
  {
   "cell_type": "markdown",
   "id": "7682283b-cce9-44f0-9733-8909bb69898c",
   "metadata": {},
   "source": [
    "Here, it seems like we only have data for the past 20 years or so."
   ]
  },
  {
   "cell_type": "markdown",
   "id": "b0c08e99-194c-4f0a-b2cb-1961b7b49ac4",
   "metadata": {},
   "source": [
    "### Are there trends in Male vs Female birth rates?"
   ]
  },
  {
   "cell_type": "code",
   "execution_count": null,
   "id": "6825a5a2-8410-4ed9-82ad-97812c824c46",
   "metadata": {},
   "outputs": [],
   "source": [
    "plt.plot(japan_pd['year'], japan_pd['birth_female'], marker='o', color='salmon', label=\"Female\")\n",
    "plt.plot(japan_pd['year'], japan_pd['birth_male'], marker='o', color='skyblue', label=\"Male\")\n",
    "print(\"Male birth rate = \",japan_pd['birth_male'])\n",
    "print(\"Female birth rate = \",japan_pd['birth_female'])\n",
    "plt.xlabel(\"Year\")\n",
    "plt.ylabel(\"Birth Rate\")\n",
    "plt.title(\"Birth Rate by Year\")\n",
    "plt.legend()\n",
    "plt.show()"
   ]
  },
  {
   "cell_type": "code",
   "execution_count": null,
   "id": "a4b4327b",
   "metadata": {},
   "outputs": [],
   "source": []
  },
  {
   "cell_type": "code",
   "execution_count": null,
   "id": "7abe0d49-617c-4045-ad63-cf04b2c42a6d",
   "metadata": {},
   "outputs": [],
   "source": [
    "# print(japan_pd)"
   ]
  },
  {
   "cell_type": "code",
   "execution_count": null,
   "id": "b36be2e0-d277-4e15-af76-0e7e48a67545",
   "metadata": {},
   "outputs": [],
   "source": [
    "# sum total male & female births\n",
    "total_male_births = japan_pd['birth_male'].sum()\n",
    "total_female_births = japan_pd['birth_female'].sum()\n",
    "print(\"total male births = \",total_male_births)\n",
    "print(\"total female births = \",total_female_births)\n",
    "\n",
    "# create pie graph\n",
    "plt.figure(figsize=(8, 8))\n",
    "labels = ['Male', 'Female']\n",
    "sizes = [total_male_births, total_female_births]\n",
    "colors = ['skyblue', 'salmon']\n",
    "explode=(0.1, 0)\n",
    "plt.pie(sizes, explode=explode, labels=labels, colors=colors, autopct='%1.1f%%', startangle=140)\n",
    "plt.title('Birth Rate in Japan (male vs female)')\n",
    "plt.axis('equal')  # Equal aspect ratio ensures that pie is drawn as a circle.\n",
    "plt.show()"
   ]
  },
  {
   "cell_type": "code",
   "execution_count": null,
   "id": "b5f4579d-06ff-4488-a064-6d8a2e623c68",
   "metadata": {},
   "outputs": [],
   "source": [
    "# if limit to last 100 years\n",
    "last_100yrs = japan_pd[japan_pd['year'] >= japan_pd['year'].max() - 100]\n",
    "# sum male & female births\n",
    "total_male_births_last_100yrs = last_100yrs['birth_male'].sum()\n",
    "total_female_births_last_100yrs = last_100yrs['birth_female'].sum()\n",
    "print(\"total male births = \",total_male_births_last_100yrs)\n",
    "print(\"total female births = \",total_female_births_last_100yrs)\n",
    "\n",
    "# create pie graph\n",
    "plt.figure(figsize=(8, 8))\n",
    "labels = ['Male', 'Female']\n",
    "sizes = [total_male_births_last_100yrs, total_female_births_last_100yrs]\n",
    "colors = ['skyblue', 'salmon']\n",
    "explode=(0.1, 0)\n",
    "plt.pie(sizes, explode=explode, labels=labels, colors=colors, autopct='%1.1f%%', startangle=140)\n",
    "plt.title('Birth Rate in Japan (male vs female) over last 100 years')\n",
    "plt.axis('equal')  # Equal aspect ratio ensures that pie is drawn as a circle.\n",
    "plt.show()"
   ]
  }
 ],
 "metadata": {
  "kernelspec": {
   "display_name": "Python 3 (ipykernel)",
   "language": "python",
   "name": "python3"
  },
  "language_info": {
   "codemirror_mode": {
    "name": "ipython",
    "version": 3
   },
   "file_extension": ".py",
   "mimetype": "text/x-python",
   "name": "python",
   "nbconvert_exporter": "python",
   "pygments_lexer": "ipython3",
   "version": "3.10.13"
  }
 },
 "nbformat": 4,
 "nbformat_minor": 5
}
